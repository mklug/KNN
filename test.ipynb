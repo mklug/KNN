{
 "cells": [
  {
   "cell_type": "code",
   "execution_count": 1,
   "metadata": {},
   "outputs": [],
   "source": [
    "import numpy as np\n",
    "import pandas as pd\n",
    "from KNN import KNN\n"
   ]
  },
  {
   "cell_type": "code",
   "execution_count": 2,
   "metadata": {},
   "outputs": [],
   "source": [
    "d = {'col1': [1, 2, 3, 4], 'col2': [3, 4, 5, 34]}\n",
    "X_train = pd.DataFrame(data=d)\n",
    "Y_train = pd.Series([\"red\", \"red\", \"red\", \"yellow\"])\n"
   ]
  },
  {
   "cell_type": "code",
   "execution_count": 3,
   "metadata": {},
   "outputs": [
    {
     "name": "stdout",
     "output_type": "stream",
     "text": [
      "        red    yellow\n",
      "0  1.000000  0.000000\n",
      "1  1.000000  0.000000\n",
      "2  1.000000  0.000000\n",
      "3  0.000000  1.000000\n",
      "4  0.065795  0.934205\n",
      "0       red\n",
      "1       red\n",
      "2       red\n",
      "3    yellow\n",
      "4    yellow\n",
      "dtype: object\n"
     ]
    }
   ],
   "source": [
    "clf = KNN(n_neighbors=3, weights='distance')\n",
    "clf.fit(X_train, Y_train)\n",
    "\n",
    "X_test = pd.DataFrame({'col1': [1,2,3,4, 4.1], 'col2': [3, 4, 5, 34, 33]})\n",
    "print(clf.predict_proba(X_test))\n",
    "print(clf.predict(X_test))\n"
   ]
  },
  {
   "cell_type": "code",
   "execution_count": 4,
   "metadata": {},
   "outputs": [],
   "source": [
    "from sklearn.datasets import load_iris\n",
    "from sklearn.model_selection import train_test_split\n",
    "\n",
    "iris = load_iris(as_frame=True)\n",
    "X = iris.data[[\"sepal length (cm)\", \"sepal width (cm)\"]]\n",
    "Y = iris.target\n",
    "X_train, X_test, Y_train, Y_test = train_test_split(X, Y, stratify=Y, random_state=0)\n"
   ]
  },
  {
   "cell_type": "code",
   "execution_count": 5,
   "metadata": {},
   "outputs": [
    {
     "data": {
      "text/plain": [
       "0.7105263157894737"
      ]
     },
     "execution_count": 5,
     "metadata": {},
     "output_type": "execute_result"
    }
   ],
   "source": [
    "from sklearn.neighbors import KNeighborsClassifier\n",
    "from sklearn.preprocessing import StandardScaler\n",
    "from sklearn.metrics import accuracy_score\n",
    "\n",
    "scaler = StandardScaler()\n",
    "X_train_scaled = scaler.fit_transform(X_train)\n",
    "Y_train_array = Y_train.to_numpy()\n",
    "\n",
    "X_test_scaled = scaler.transform(X_test)\n",
    "Y_test_array = Y_test.to_numpy()\n",
    "\n",
    "neigh = KNeighborsClassifier(n_neighbors=5)\n",
    "neigh.fit(X_train_scaled, Y_train_array)\n",
    "accuracy_score(neigh.predict(X_test_scaled), Y_test_array)\n"
   ]
  },
  {
   "cell_type": "code",
   "execution_count": 6,
   "metadata": {},
   "outputs": [
    {
     "data": {
      "text/plain": [
       "0.7105263157894737"
      ]
     },
     "execution_count": 6,
     "metadata": {},
     "output_type": "execute_result"
    }
   ],
   "source": [
    "# Let's get the same score with our classifier.\n",
    "# Note that, there can be some variation depending on how tie \n",
    "# votes are determined.  \n",
    "my_neigh = KNN(n_neighbors=5)\n",
    "my_neigh.fit(X_train_scaled, Y_train_array)\n",
    "accuracy_score(my_neigh.predict(X_test_scaled), Y_test_array)\n"
   ]
  },
  {
   "cell_type": "code",
   "execution_count": 7,
   "metadata": {},
   "outputs": [
    {
     "data": {
      "text/plain": [
       "0.5789473684210527"
      ]
     },
     "execution_count": 7,
     "metadata": {},
     "output_type": "execute_result"
    }
   ],
   "source": [
    "neigh = KNeighborsClassifier(n_neighbors=5, weights='distance')\n",
    "neigh.fit(X_train_scaled, Y_train_array)\n",
    "accuracy_score(neigh.predict(X_test_scaled), Y_test_array)\n"
   ]
  },
  {
   "cell_type": "code",
   "execution_count": 8,
   "metadata": {},
   "outputs": [
    {
     "data": {
      "text/plain": [
       "0.5789473684210527"
      ]
     },
     "execution_count": 8,
     "metadata": {},
     "output_type": "execute_result"
    }
   ],
   "source": [
    "my_neigh = KNN(n_neighbors=5, weights='distance')\n",
    "my_neigh.fit(X_train_scaled, Y_train_array)\n",
    "accuracy_score(my_neigh.predict(X_test_scaled), Y_test_array)\n"
   ]
  }
 ],
 "metadata": {
  "kernelspec": {
   "display_name": "Python 3",
   "language": "python",
   "name": "python3"
  },
  "language_info": {
   "codemirror_mode": {
    "name": "ipython",
    "version": 3
   },
   "file_extension": ".py",
   "mimetype": "text/x-python",
   "name": "python",
   "nbconvert_exporter": "python",
   "pygments_lexer": "ipython3",
   "version": "3.11.5"
  }
 },
 "nbformat": 4,
 "nbformat_minor": 2
}
